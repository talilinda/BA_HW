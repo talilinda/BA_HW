{
  "nbformat": 4,
  "nbformat_minor": 0,
  "metadata": {
    "colab": {
      "provenance": [],
      "include_colab_link": true
    },
    "kernelspec": {
      "display_name": "Python 3",
      "name": "python3"
    },
    "language_info": {
      "name": "python"
    }
  },
  "cells": [
    {
      "cell_type": "markdown",
      "metadata": {
        "id": "view-in-github",
        "colab_type": "text"
      },
      "source": [
        "<a href=\"https://colab.research.google.com/github/talilinda/BA_HW/blob/main/S05_Ocado.ipynb\" target=\"_parent\"><img src=\"https://colab.research.google.com/assets/colab-badge.svg\" alt=\"Open In Colab\"/></a>"
      ]
    },
    {
      "cell_type": "markdown",
      "metadata": {
        "id": "Jhj2es8iyCGb"
      },
      "source": [
        "# Monitoring Customer Sentiment at Ocado\n",
        "\n",
        "## B.S. Vanneste and A. Zohrehvand"
      ]
    },
    {
      "cell_type": "markdown",
      "metadata": {
        "id": "8RPcnaRz5sIb"
      },
      "source": [
        "Copyright © 2023 B.S. Vanneste and A. Zohrehvand. This publication may not be digitized, photocopied, or otherwise reproduced, posted, or transmitted, without the permission of the authors. To order copies or request permission to reproduce materials, email b.vanneste@ucl.ac.uk. This exercise is developed solely as the basis for class discussion."
      ]
    },
    {
      "cell_type": "markdown",
      "metadata": {
        "id": "zwLpEL2cyXJ3"
      },
      "source": [
        "# Ocado\n",
        "\n",
        "In 2020, the UK grocery retailer Ocado faced a daunting challenge to keep supplying their customers while a pandemic raged. The company is keen to monitor customers' opinion to understand how well it is coping. **It seeks your help to build and evaluate a monitoring system.**\n",
        "\n",
        "One approach is sentiment analysis, in which the opinions of customers are inferred from social media postings. This approach fits well with Ocado's online only strategy. Sentiment analysis relies on natural language processing (NLP) models. These models are typically trained on large amounts of text and can be reused on other text. Thus, we can benefit from the work of others by directly importing these pre-trained NLP models, saving substantial time and ensureing (near) state-of-the-art performance.\n",
        "\n",
        "The data are from Twitter. We focus on tweets that include the word Ocado. Because Twitter is publicly accessible, you also have access to tweets that refer to Tesco. Tesco is a key competitor, using both online channels and an extensive network of physical stores.  "
      ]
    },
    {
      "cell_type": "markdown",
      "metadata": {
        "id": "LrahM2hYITo9"
      },
      "source": [
        "**Q1. As a manager at Ocado, why would you be interested in Tesco's tweets?**"
      ]
    },
    {
      "cell_type": "markdown",
      "metadata": {
        "id": "c8vJazJ9IUSl"
      },
      "source": [
        "*your answere here*"
      ]
    },
    {
      "cell_type": "markdown",
      "metadata": {
        "id": "Xqqo89k6wueo"
      },
      "source": [
        "# Import packages\n",
        "\n",
        "Python makes use of software packages for added functionality."
      ]
    },
    {
      "cell_type": "code",
      "metadata": {
        "id": "mo_q3MIDbUOo"
      },
      "source": [
        "# import packages\n",
        "import pandas as pd\n",
        "import seaborn as sns\n",
        "import matplotlib.pyplot as plt\n",
        "from sklearn.metrics import accuracy_score\n",
        "\n",
        "# install transformers from Hugging Face (an NLP package)\n",
        "!pip install transformers\n",
        "from transformers import pipeline"
      ],
      "execution_count": null,
      "outputs": []
    },
    {
      "cell_type": "markdown",
      "metadata": {
        "id": "VphM6z9KzB8o"
      },
      "source": [
        "# Import data\n",
        "\n",
        "We'll work with a dataset of 2,400 tweets about Ocado and Tesco. From the population of all tweets posted in the UK in 2020 that include \"Ocado\" or \"Tesco\", we randomly sample 100 tweets per month for each firm.\n"
      ]
    },
    {
      "cell_type": "code",
      "metadata": {
        "id": "V2DGxNAjzE3-"
      },
      "source": [
        "# import data\n",
        "df = pd.read_csv(\"https://storage.googleapis.com/ai4business/Ocado/c3j27xdc_tweets_df.csv\")\n",
        "\n",
        "# show data\n",
        "df.head()"
      ],
      "execution_count": null,
      "outputs": []
    },
    {
      "cell_type": "code",
      "metadata": {
        "id": "cfuw244ezXtD"
      },
      "source": [
        "# show some tweets\n",
        "df.text.sample(10).tolist()"
      ],
      "execution_count": null,
      "outputs": []
    },
    {
      "cell_type": "markdown",
      "metadata": {
        "id": "WUK00BmVxSYF"
      },
      "source": [
        "# Set up model\n",
        "\n",
        "Hugging Face, an NLP software package, provides many pre-trained models. You can see a list of models [here](https://huggingface.co/models). For the purpose of this exercise, we use RoBERTa-large (Liu et al. 2019). You can read more about it [here](https://huggingface.co/siebert/sentiment-roberta-large-english).\n"
      ]
    },
    {
      "cell_type": "code",
      "metadata": {
        "id": "_UR22LN3d6Is"
      },
      "source": [
        "# set up model\n",
        "sentiment_analysis = pipeline(\"sentiment-analysis\", model=\"siebert/sentiment-roberta-large-english\")"
      ],
      "execution_count": null,
      "outputs": []
    },
    {
      "cell_type": "markdown",
      "metadata": {
        "id": "3cQ7fLr90xc-"
      },
      "source": [
        "# Understand model\n",
        "\n",
        "The model is trained to classify sentiment as positive or negative. We'll try out the model by feeding it tweets with different sentiment."
      ]
    },
    {
      "cell_type": "markdown",
      "metadata": {
        "id": "Q22BK2gGxacf"
      },
      "source": [
        "**Q2. Write a positive tweet and check if the model predicts positive.**\n",
        "\n",
        "A tweet is a short text of 1 or 2 sentences."
      ]
    },
    {
      "cell_type": "code",
      "metadata": {
        "id": "9K6DkI9RxaL1"
      },
      "source": [
        "### your code here ###\n",
        "positive_tweet=\"YOUR POSITIVE TWEET HERE\"\n",
        "### /your code here ###\n",
        "\n",
        "sentiment_analysis(positive_tweet)"
      ],
      "execution_count": null,
      "outputs": []
    },
    {
      "cell_type": "markdown",
      "metadata": {
        "id": "2-5S2EaaOZBi"
      },
      "source": [
        "The model returns a label (a prediction) and a score (according to the model, the probability that the label is correctly predicted)."
      ]
    },
    {
      "cell_type": "markdown",
      "metadata": {
        "id": "I2lay9yK1Kw9"
      },
      "source": [
        "**Q3. Write a negative tweet and check if the model predicts negative.**\n"
      ]
    },
    {
      "cell_type": "code",
      "metadata": {
        "id": "_PJt3WPr1dSP"
      },
      "source": [
        "### your code here ###\n",
        "negative_tweet=\"YOUR NEGATIVE TWEET HERE\"\n",
        "### /your code here ###\n",
        "\n",
        "sentiment_analysis(negative_tweet)"
      ],
      "execution_count": null,
      "outputs": []
    },
    {
      "cell_type": "markdown",
      "metadata": {
        "id": "h3K8r7Cm1bxN"
      },
      "source": [
        "Because the model is trained to classify sentiment as positive or negative, it will struggle with neutral text. Try it.\n",
        "\n",
        "**Q4. Write a neutral tweet and check the prediction.**"
      ]
    },
    {
      "cell_type": "code",
      "metadata": {
        "id": "ICWbpbzx1fg-"
      },
      "source": [
        "### your code here ###\n",
        "neutral_tweet=\"YOUR NEUTRAL TWEET HERE\"\n",
        "### /your code here ###\n",
        "\n",
        "sentiment_analysis(neutral_tweet)"
      ],
      "execution_count": null,
      "outputs": []
    },
    {
      "cell_type": "markdown",
      "metadata": {
        "id": "XFI6F4t21LOm"
      },
      "source": [
        "Natural language is full of subtleties. For example, a sarcastic sentence is easily misunderstood by non-native speakers. How good is the model in picking up these subtleties?\n",
        "\n",
        "**Q5. Write a negative tweet that you think the model will misclassify as positive.**\n"
      ]
    },
    {
      "cell_type": "code",
      "metadata": {
        "id": "5b5Kl-xH2KFn"
      },
      "source": [
        "### your code here ###\n",
        "misleading_tweet=\"YOUR MISLEADING TWEET HERE\"\n",
        "### /your code here ###\n",
        "\n",
        "sentiment_analysis(misleading_tweet)"
      ],
      "execution_count": null,
      "outputs": []
    },
    {
      "cell_type": "markdown",
      "metadata": {
        "id": "lJZAjFD92d5F"
      },
      "source": [
        "# Assess model"
      ]
    },
    {
      "cell_type": "markdown",
      "metadata": {
        "id": "QA6QG2Yt_tw_"
      },
      "source": [
        "\n",
        "\n",
        "**Q6: Select 5 tweets and let the model predict their sentiment.**\n"
      ]
    },
    {
      "cell_type": "code",
      "metadata": {
        "id": "W0wyeFvF2PZm"
      },
      "source": [
        "# select tweets by picking 5 numbers between 0 and 2399\n",
        "### your code here ###\n",
        "tweet_numbers = [0, 0, 0, 0, 0]\n",
        "### /your code here ###\n",
        "\n",
        "# get text\n",
        "tweet_text = df[\"text\"][tweet_numbers].tolist()\n",
        "\n",
        "# conduct sentiment analysis\n",
        "list(zip(tweet_text, sentiment_analysis(tweet_text)))"
      ],
      "execution_count": null,
      "outputs": []
    },
    {
      "cell_type": "markdown",
      "metadata": {
        "id": "Mx86YVE029uC"
      },
      "source": [
        "**Q7: Do you agree with alll the model predictions? (Yes/No)**"
      ]
    },
    {
      "cell_type": "markdown",
      "metadata": {
        "id": "h8hs1U0xo3pV"
      },
      "source": [
        "*Your answer here.*"
      ]
    },
    {
      "cell_type": "markdown",
      "metadata": {
        "id": "ZY4wgzswBLdO"
      },
      "source": [
        "We can assess the model by comparing its predictions with the ground truth or actual sentiment. Because the data are unlabeled, we need to provide the ground truth. This process is called labeling or tagging the data.\n",
        "\n",
        "Let's select some random tweets for labeling."
      ]
    },
    {
      "cell_type": "code",
      "metadata": {
        "id": "gc8whQKod9PT"
      },
      "source": [
        "# select 10 random tweets\n",
        "test_tweets = df[\"text\"].sample(10).tolist()\n",
        "\n",
        "# show tweets\n",
        "test_tweets"
      ],
      "execution_count": null,
      "outputs": []
    },
    {
      "cell_type": "markdown",
      "metadata": {
        "id": "CexOnPECeHMk"
      },
      "source": [
        "**Q8. Label the tweets as either POSITIVE or NEGATIVE in the same order as above.**"
      ]
    },
    {
      "cell_type": "code",
      "metadata": {
        "id": "aUoIrdskeGbK"
      },
      "source": [
        "### your code here ###\n",
        "labels = [\"POSITIVE OR NEGATIVE\",\n",
        "          \"POSITIVE OR NEGATIVE\",\n",
        "          \"POSITIVE OR NEGATIVE\",\n",
        "          \"POSITIVE OR NEGATIVE\",\n",
        "          \"POSITIVE OR NEGATIVE\",\n",
        "          \"POSITIVE OR NEGATIVE\",\n",
        "          \"POSITIVE OR NEGATIVE\",\n",
        "          \"POSITIVE OR NEGATIVE\",\n",
        "          \"POSITIVE OR NEGATIVE\",\n",
        "          \"POSITIVE OR NEGATIVE\",]\n",
        "### /your code here ###\n",
        "\n",
        "# define test set\n",
        "test_df = pd.DataFrame({\"text\":test_tweets,\n",
        "                        \"label\":labels})\n",
        "\n",
        "# show test set\n",
        "test_df"
      ],
      "execution_count": null,
      "outputs": []
    },
    {
      "cell_type": "markdown",
      "metadata": {
        "id": "NWyj3md1dYj4"
      },
      "source": [
        "**Q9. Reflect on the objectivity and cost of labeling the data.**"
      ]
    },
    {
      "cell_type": "markdown",
      "metadata": {
        "id": "NrkTsdJUtbVv"
      },
      "source": [
        "*your answere here*"
      ]
    },
    {
      "cell_type": "markdown",
      "metadata": {
        "id": "-B2Sy26S_IiC"
      },
      "source": [
        "Now that we have the labels, we can compare them to the model predictions."
      ]
    },
    {
      "cell_type": "code",
      "metadata": {
        "id": "OcFLqW1i_GMY"
      },
      "source": [
        "# conduct sentiment analysis\n",
        "test_df[\"predicted_label\"]=pd.DataFrame(sentiment_analysis(test_df.text.tolist()))[\"label\"]\n",
        "\n",
        "# show test set\n",
        "test_df"
      ],
      "execution_count": null,
      "outputs": []
    },
    {
      "cell_type": "markdown",
      "metadata": {
        "id": "w-XjFuSKf7GD"
      },
      "source": [
        "A common and intuitive performance metric is accuracy or the proportion correct predictions. For example, if the number of correctly predicted tweets is 7 and the total number of predictions is 10, then the accuracy is 7 / 10 = 0.7."
      ]
    },
    {
      "cell_type": "code",
      "metadata": {
        "id": "DeF4ir4Lft5Q"
      },
      "source": [
        "# calculate accuracy score\n",
        "accuracy_score(test_df.label, test_df.predicted_label)"
      ],
      "execution_count": null,
      "outputs": []
    },
    {
      "cell_type": "markdown",
      "metadata": {
        "id": "Nfk0pbFp3CJ1"
      },
      "source": [
        "**Q10. Reflect on the model's accuracy.**"
      ]
    },
    {
      "cell_type": "markdown",
      "metadata": {
        "id": "IQBVHnOQtZFU"
      },
      "source": [
        "*your answere here*"
      ]
    },
    {
      "cell_type": "markdown",
      "metadata": {
        "id": "djAPuBk6ynps"
      },
      "source": [
        "# Use the model\n",
        "\n",
        "One way to evaluate a model is to assess its accuracy, as we have done above. Another way is to consider the extent to which it can explain events, as we will do below.\n",
        "\n",
        "We import the predictions for each tweet of Ocado and Tesco in the dataset. The predictions are made with the same model as specified above. Depending on the model that is used, predicting sentiment can take substantial time for larger datatsets. If you want to generate these predictions in your own time, then you can do so with the code that is also provided below (uncomment code before running it)."
      ]
    },
    {
      "cell_type": "code",
      "metadata": {
        "id": "CT708RFlwY38"
      },
      "source": [
        "# import predictions\n",
        "df = pd.read_csv(\"https://storage.googleapis.com/ai4business/Ocado/kCbekA2Nd5_tweets_with_predictions.csv\")\n",
        "\n",
        "# # generate predictions\n",
        "# def make_chunks(lst, n):\n",
        "#     for i in range(0, len(lst), n):\n",
        "#         yield lst[i:i + n]\n",
        "\n",
        "# chunks = list(make_chunks(df[\"text\"].tolist(), 800))\n",
        "# df[[\"label\", \"prediction\"]] = pd.concat([pd.DataFrame(sentiment_analysis(elem)) for elem in chunks])"
      ],
      "execution_count": null,
      "outputs": []
    },
    {
      "cell_type": "markdown",
      "metadata": {
        "id": "Qjo2ym00kKRE"
      },
      "source": [
        "For each tweet, the model returns a label (or prediction) and score (or probability). We first plot the scores distributions separately for the positive and negatively predicted tweets."
      ]
    },
    {
      "cell_type": "code",
      "metadata": {
        "id": "QHDPMvVmtMaU"
      },
      "source": [
        "# plot scores\n",
        "sns.displot(\n",
        "    df, x=\"prediction\", col=\"label\",\n",
        "    binwidth=0.01,\n",
        "    facet_kws=dict(margin_titles=True),\n",
        ")\n",
        "plt.show()"
      ],
      "execution_count": null,
      "outputs": []
    },
    {
      "cell_type": "markdown",
      "metadata": {
        "id": "0LwL-7cmCB8F"
      },
      "source": [
        "**Q11. Overall is the model confident of its predictions? (Yes/No)**\n",
        "\n",
        "Reflect on whether this level of confidence is desired or not.\n"
      ]
    },
    {
      "cell_type": "markdown",
      "metadata": {
        "id": "NBNlIeSukv3h"
      },
      "source": [
        "*your answere here*"
      ]
    },
    {
      "cell_type": "markdown",
      "metadata": {
        "id": "n27ujtt5CFT6"
      },
      "source": [
        "We next analyse the labels or predictions. We compare *average* tweet sentiment per month. Hence, we need to aggregate the data by company and month."
      ]
    },
    {
      "cell_type": "code",
      "metadata": {
        "id": "GBKSPTKSv2yz"
      },
      "source": [
        "# define function for aggregating data\n",
        "def calculate_prop_positive(x):\n",
        "    return sum(x == \"POSITIVE\") / len(x)\n",
        "\n",
        "# aggregate data by comany and month\n",
        "gb = df.groupby(by=[\"company\", \"month\"])\n",
        "df_aggregate = gb[\"label\"].apply(calculate_prop_positive)\n",
        "df_aggregate = df_aggregate.reset_index()\n",
        "\n",
        "# plot average sentiment over time\n",
        "sns.lineplot(data=df_aggregate, x=\"month\", y=\"label\", hue=\"company\")\n",
        "plt.show()"
      ],
      "execution_count": null,
      "outputs": []
    },
    {
      "cell_type": "markdown",
      "metadata": {
        "id": "MZISf9XU4POK"
      },
      "source": [
        "**Q12. Based on the figure above, can you infer the month of the first lockdown in the UK?**"
      ]
    },
    {
      "cell_type": "markdown",
      "metadata": {
        "id": "EBKI9ttx8T3E"
      },
      "source": [
        "*Your answer here*"
      ]
    },
    {
      "cell_type": "markdown",
      "metadata": {
        "id": "0HowE-2b_K7p"
      },
      "source": [
        "**Q13. Speculate why Ocado has done worse than Tesco in terms of sentiment.**\n"
      ]
    },
    {
      "cell_type": "markdown",
      "metadata": {
        "id": "plHDyR7d8W_q"
      },
      "source": [
        "*Your answer here*"
      ]
    },
    {
      "cell_type": "markdown",
      "metadata": {
        "id": "qKeNqx865ItH"
      },
      "source": [
        "Ocado sells groceries under their own brand, with a name brand (e.g. Unilever), and also from one other supermarket chain. For the last category, Ocado switched suppliers from Waitrose to M&S in 2020.\n",
        "\n",
        "**Q14. Based on the figure above, can you guess the month of Ocado switching suppliers?**\n"
      ]
    },
    {
      "cell_type": "markdown",
      "metadata": {
        "id": "497GjVcBDwOn"
      },
      "source": [
        "*Your answer here.*"
      ]
    },
    {
      "cell_type": "markdown",
      "metadata": {
        "id": "l2AXQnveklpW"
      },
      "source": [
        "**Q15. As a manager at Ocado, how could you use these type of analyses going forward?**"
      ]
    },
    {
      "cell_type": "markdown",
      "metadata": {
        "id": "dMt0BtKWklL-"
      },
      "source": [
        "*Your answer here.*"
      ]
    }
  ]
}